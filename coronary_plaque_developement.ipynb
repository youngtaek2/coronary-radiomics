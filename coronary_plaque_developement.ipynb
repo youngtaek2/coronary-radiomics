{
 "cells": [
  {
   "cell_type": "markdown",
   "metadata": {},
   "source": [
    "#Prediction of the Development of New Coronary Atherosclerotic Plaques with Radiomics\n",
    "\n"
   ]
  },
  {
   "cell_type": "code",
   "execution_count": 49,
   "metadata": {},
   "outputs": [],
   "source": [
    "import os\n",
    "import pandas as pd\n",
    "import numpy as np\n",
    "import warnings\n",
    "from boruta import BorutaPy\n",
    "\n",
    "warnings.filterwarnings(action='ignore')\n",
    "\n",
    "from sklearn.model_selection import StratifiedKFold\n",
    "from sklearn.feature_selection import SelectKBest, f_classif, mutual_info_classif\n",
    "from sklearn.preprocessing import MinMaxScaler\n",
    "from sklearn.ensemble import RandomForestClassifier, AdaBoostClassifier, GradientBoostingClassifier, ExtraTreesClassifier\n",
    "from sklearn.naive_bayes import GaussianNB, BernoulliNB\n",
    "from sklearn.neighbors import KNeighborsClassifier, KNeighborsRegressor\n",
    "from sklearn.linear_model import LogisticRegression\n",
    "from sklearn.svm import SVC, LinearSVC\n",
    "from sklearn.tree import DecisionTreeClassifier, DecisionTreeRegressor\n",
    "from sklearn.ensemble import RandomForestRegressor, GradientBoostingRegressor, AdaBoostRegressor\n",
    "from sklearn.discriminant_analysis import LinearDiscriminantAnalysis, QuadraticDiscriminantAnalysis\n",
    "from sklearn.neural_network import MLPClassifier\n",
    "from xgboost import XGBClassifier, XGBRegressor\n",
    "from sklearn.model_selection import GridSearchCV\n",
    "from sklearn.metrics import roc_auc_score, roc_curve, auc\n",
    "# from sklearn.metrics import plot_roc_curve\n",
    "import matplotlib.pyplot as plt\n",
    "from sklearn.metrics import make_scorer, accuracy_score\n",
    "from catboost import CatBoostRegressor\n",
    "import pickle\n",
    "from colorama import Fore, Back, Style\n",
    "from sklearn.model_selection import train_test_split\n",
    "from sklearn.model_selection import ParameterGrid\n",
    "from joblib import dump, load\n",
    "from sklearn.metrics import confusion_matrix\n",
    "seed = 42\n",
    "nTopFeatures=15\n",
    "nFolds = 10\n",
    "# skf = StratifiedKFold(n_splits=5, suffle=True, random_state=seed)\n",
    "skf = StratifiedKFold(n_splits=nFolds, shuffle=True, random_state=seed)\n",
    "from sklearn import svm\n",
    "from imblearn.over_sampling import SMOTE"
   ]
  },
  {
   "cell_type": "code",
   "execution_count": 10,
   "metadata": {},
   "outputs": [],
   "source": [
    "import pandas as pd\n",
    "import pickle\n",
    "from boruta import BorutaPy\n",
    "from xgboost import XGBClassifier\n",
    "from sklearn.ensemble import RandomForestClassifier\n",
    "from sklearn.model_selection import StratifiedKFold\n",
    "from sklearn.metrics import roc_auc_score\n",
    "from imblearn.over_sampling import SMOTE\n",
    "from joblib import dump\n",
    "from sklearn.model_selection import ParameterGrid\n",
    "\n",
    "# Set seed for reproducibility\n",
    "seed = 42\n",
    "\n",
    "# Set up StratifiedKFold\n",
    "nFolds = 10\n",
    "skf = StratifiedKFold(n_splits=nFolds, shuffle=True, random_state=seed)\n"
   ]
  },
  {
   "cell_type": "code",
   "execution_count": 2,
   "metadata": {},
   "outputs": [
    {
     "name": "stderr",
     "output_type": "stream",
     "text": [
      "/tmp/ipykernel_1532594/2759889959.py:12: DtypeWarning: Columns (19,54,60,95,112,113,127,132,136,137,138,139,142,144,145,146,149,152,155,156,159,160,162,171,180,181,191,192,208,1080,1094,1095,1096,1097,1103) have mixed types. Specify dtype option on import or set low_memory=False.\n",
      "  data = pd.read_csv(\"paradigm_radiomics_train.csv\")\n"
     ]
    }
   ],
   "source": [
    "important_features = []\n",
    "\n",
    "# open the pickle file in binary mode\n",
    "with open('./plaqueDevelopement/reproducible_features.pkl', 'rb') as f:\n",
    "    # load the list from the file\n",
    "    reproducible_features = pickle.load(f)\n",
    "\n",
    "features = []\n",
    "for feature in reproducible_features:\n",
    "    features.append('pre_{}'.format(feature))\n",
    "\n",
    "data = pd.read_csv(\"paradigm_radiomics_train.csv\")\n",
    "source = data.filter(regex='pre_original|pre_wavelet')\n",
    "source = source[features]\n",
    "target = data['endpoint_a']\n",
    "\n",
    "\n",
    "# # create a random forest classifier\n",
    "rf = RandomForestClassifier(n_estimators=10, max_depth=3, random_state=0)\n",
    "\n",
    "# # create the Boruta feature selector\n",
    "boruta = BorutaPy(rf, n_estimators='auto', max_iter=10, verbose=0, random_state=seed)\n",
    "\n",
    "# # fit the Boruta feature selector\n",
    "boruta.fit(source.values, target.values)\n",
    "\n",
    "feature_ranking = pd.DataFrame({'feature': source.columns, 'rank': boruta.ranking_})\n",
    "\n",
    "# # Print the most important features\n",
    "feature_ranking.to_excel('./plaqueDevelopement/bourta_features_reproduce_analysis.xlsx', index=False)\n",
    "\n",
    "boruta_features = feature_ranking[feature_ranking['rank']==1]['feature'].values.tolist()\n"
   ]
  },
  {
   "cell_type": "code",
   "execution_count": 3,
   "metadata": {},
   "outputs": [],
   "source": [
    "# Train an XGBoost model\n",
    "model = XGBClassifier(objective='binary:logistic', max_depth=3, learning_rate=0.01, n_estimators=200, random_state=seed)\n",
    "model.fit(source[boruta_features], target)\n",
    "\n",
    "# Get the feature importances\n",
    "importances = model.feature_importances_\n",
    "\n",
    "# Create a new DataFrame to store the feature importances\n",
    "feature_importances = pd.DataFrame({'Feature': source[boruta_features].columns, 'Importance': importances})\n",
    "\n",
    "# Sort the DataFrame by importance in descending order\n",
    "feature_importances = feature_importances.sort_values('Importance', ascending=False)\n",
    "\n",
    "# Save the feature importances to an Excel file\n",
    "feature_importances.to_excel('./plaqueDevelopement/bourta_xgboost_reproduce_analysis.xlsx', index=False)"
   ]
  },
  {
   "cell_type": "code",
   "execution_count": 4,
   "metadata": {},
   "outputs": [],
   "source": [
    "df = pd.read_excel(\n",
    "        './plaqueDevelopement/bourta_xgboost_reproduce_analysis.xlsx', index_col=None, names=['Feature', 'Importance']\n",
    "        )\n",
    "target_features = df[df['Importance'] != 0]"
   ]
  },
  {
   "cell_type": "code",
   "execution_count": 5,
   "metadata": {},
   "outputs": [],
   "source": [
    "target_features = target_features['Feature'].values.tolist()"
   ]
  },
  {
   "cell_type": "code",
   "execution_count": 6,
   "metadata": {},
   "outputs": [
    {
     "name": "stderr",
     "output_type": "stream",
     "text": [
      "/tmp/ipykernel_1532594/3078153737.py:2: DtypeWarning: Columns (19,54,60,95,112,113,127,132,136,137,138,139,142,144,145,146,149,152,155,156,159,160,162,171,180,181,191,192,208,1080,1094,1095,1096,1097,1103) have mixed types. Specify dtype option on import or set low_memory=False.\n",
      "  train_data = pd.read_csv(\"paradigm_radiomics_train.csv\")\n",
      "/tmp/ipykernel_1532594/3078153737.py:9: DtypeWarning: Columns (19,60,132,136,137,138,142,144,145,146,149,152,156,159,160,162,171,180,181,191,192,208,1080) have mixed types. Specify dtype option on import or set low_memory=False.\n",
      "  test_data = pd.read_csv(\"paradigm_radiomics_test.csv\")\n"
     ]
    }
   ],
   "source": [
    "# read the data\n",
    "train_data = pd.read_csv(\"paradigm_radiomics_train.csv\")\n",
    "\n",
    "# Split the data into X and y\n",
    "X_train = train_data[target_features]\n",
    "y_train = train_data['endpoint_a']\n",
    "\n",
    "# Split the data into training and test sets\n",
    "test_data = pd.read_csv(\"paradigm_radiomics_test.csv\")\n",
    "X_test = test_data[target_features]\n",
    "y_test = test_data['endpoint_a']"
   ]
  },
  {
   "cell_type": "code",
   "execution_count": 7,
   "metadata": {},
   "outputs": [],
   "source": [
    "classifiers = [\n",
    "    (XGBClassifier(random_state=seed), {\n",
    "        'max_depth': [3, 4, 5, 8, 10, 12, 15],\n",
    "        'learning_rate': [0.1, 0.5, 0.01, 0.05],\n",
    "        'n_estimators': [2, 5, 7, 10]\n",
    "    })\n",
    "]"
   ]
  },
  {
   "cell_type": "code",
   "execution_count": 8,
   "metadata": {},
   "outputs": [],
   "source": [
    "# Apply SMOTE\n",
    "smote = SMOTE(random_state=42)\n",
    "X_train_resampled, y_train_resampled = smote.fit_resample(X_train, y_train)"
   ]
  },
  {
   "cell_type": "code",
   "execution_count": 11,
   "metadata": {},
   "outputs": [],
   "source": [
    "\n",
    "best_score = 0\n",
    "for clf, params in classifiers:\n",
    "    param_grid = ParameterGrid(params)\n",
    "    for param in param_grid:\n",
    "        clf.set_params(**param)\n",
    "        clf.fit(X_train_resampled, y_train_resampled)\n",
    "        score = roc_auc_score(y_test, clf.predict(X_test))  # AUC score for classification\n",
    "        if score > best_score:\n",
    "            best_score = score\n",
    "            dump(clf, './plaqueDevelopement/XGBClassifier.joblib')"
   ]
  },
  {
   "cell_type": "code",
   "execution_count": null,
   "metadata": {},
   "outputs": [],
   "source": []
  },
  {
   "cell_type": "code",
   "execution_count": null,
   "metadata": {},
   "outputs": [],
   "source": []
  }
 ],
 "metadata": {
  "kernelspec": {
   "display_name": "Python 3 (ipykernel)",
   "language": "python",
   "name": "python3"
  }
 },
 "nbformat": 4,
 "nbformat_minor": 2
}
